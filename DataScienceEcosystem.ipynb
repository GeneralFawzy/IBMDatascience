{
 "cells": [
  {
   "cell_type": "markdown",
   "id": "feddbc75-8079-424c-bf75-283efb59eb37",
   "metadata": {},
   "source": []
  },
  {
   "cell_type": "markdown",
   "id": "30f0c8f7-c735-4e3b-8b20-7e0245895024",
   "metadata": {},
   "source": [
    "# Data Science Tools and Ecosystem"
   ]
  },
  {
   "cell_type": "markdown",
   "id": "e0b59764-baec-4c84-a832-6fbe55b4dc48",
   "metadata": {},
   "source": [
    "In this notebook, Data Science Tools and Ecosystem are summarized."
   ]
  },
  {
   "cell_type": "markdown",
   "id": "80f11103-345e-43eb-9f99-f64e7c3e6ce2",
   "metadata": {},
   "source": [
    "**Objectives**\n",
    "- Some of the popular languages that Data Scientists\n",
    "- Some of the commonly used libraries used by Data Scientists\n",
    "- A few examples of evaluating arithmetic expressions in Python\n"
   ]
  },
  {
   "cell_type": "markdown",
   "id": "357acd92-4447-4b99-9881-c33609497d34",
   "metadata": {
    "jp-MarkdownHeadingCollapsed": true
   },
   "source": [
    "### Some of the popular languages that Data Scientists use are:\n",
    "1. Python\n",
    "2. Julia\n",
    "3. R\n",
    "4. SQL"
   ]
  },
  {
   "cell_type": "markdown",
   "id": "dec07979-dfae-4676-92e9-9f110d443a26",
   "metadata": {},
   "source": [
    "### Some of the commonly used libraries used by Data Scientists include:\n",
    "1. NumPy\n",
    "2. Pandas\n",
    "3. Matplotlib\n",
    "4. Scikit-learn"
   ]
  },
  {
   "cell_type": "markdown",
   "id": "6878c6db-05cc-47cb-920c-8035a8f88616",
   "metadata": {},
   "source": [
    "|Data Science Tools      |\n",
    "|------------------------|\n",
    "|Jupyter Notebook        |\n",
    "|RStudio                 |\n",
    "|KNIME Analytics Platform|"
   ]
  },
  {
   "cell_type": "markdown",
   "id": "d2ceb864-0c85-4c54-abb4-c997a7e5e9b6",
   "metadata": {},
   "source": [
    "### Below are a few examples of evaluating arithmetic expressions in Python"
   ]
  },
  {
   "cell_type": "markdown",
   "id": "e264b9ae-063f-435d-a1a9-71ff63bcdcff",
   "metadata": {},
   "source": [
    "This a simple arithmetic expression to mutiply then add integers"
   ]
  },
  {
   "cell_type": "code",
   "execution_count": 1,
   "id": "61194819-f244-4b15-b8ba-7ebbf76f2799",
   "metadata": {},
   "outputs": [
    {
     "data": {
      "text/plain": [
       "17"
      ]
     },
     "execution_count": 1,
     "metadata": {},
     "output_type": "execute_result"
    }
   ],
   "source": [
    "(3*4)+5"
   ]
  },
  {
   "cell_type": "markdown",
   "id": "a2eebef0-369f-426a-a0bf-105d1ded2329",
   "metadata": {},
   "source": [
    "This will convert 200 minutes to hours by diving by 60"
   ]
  },
  {
   "cell_type": "code",
   "execution_count": 2,
   "id": "ab8a7401-af2d-4b51-917b-c69dfc7c58b4",
   "metadata": {},
   "outputs": [
    {
     "data": {
      "text/plain": [
       "3.3333333333333335"
      ]
     },
     "execution_count": 2,
     "metadata": {},
     "output_type": "execute_result"
    }
   ],
   "source": [
    "200/60"
   ]
  },
  {
   "cell_type": "markdown",
   "id": "fbc34644-dae9-404a-b1c8-0ea993b382f3",
   "metadata": {},
   "source": [
    "## Author\n",
    "Fawzy Issifu"
   ]
  },
  {
   "cell_type": "code",
   "execution_count": null,
   "id": "a8ce0a7a-6f46-4e25-9093-5082063845bd",
   "metadata": {},
   "outputs": [],
   "source": []
  }
 ],
 "metadata": {
  "kernelspec": {
   "display_name": "Python 3 (ipykernel)",
   "language": "python",
   "name": "python3"
  },
  "language_info": {
   "codemirror_mode": {
    "name": "ipython",
    "version": 3
   },
   "file_extension": ".py",
   "mimetype": "text/x-python",
   "name": "python",
   "nbconvert_exporter": "python",
   "pygments_lexer": "ipython3",
   "version": "3.12.7"
  }
 },
 "nbformat": 4,
 "nbformat_minor": 5
}
